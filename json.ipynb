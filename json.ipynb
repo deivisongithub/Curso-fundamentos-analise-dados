{
  "nbformat": 4,
  "nbformat_minor": 0,
  "metadata": {
    "colab": {
      "name": "json.ipynb",
      "provenance": [],
      "collapsed_sections": [],
      "authorship_tag": "ABX9TyP1KrwsQP0t5Xvb0RjPIn5E",
      "include_colab_link": true
    },
    "kernelspec": {
      "name": "python3",
      "display_name": "Python 3"
    },
    "language_info": {
      "name": "python"
    }
  },
  "cells": [
    {
      "cell_type": "markdown",
      "metadata": {
        "id": "view-in-github",
        "colab_type": "text"
      },
      "source": [
        "<a href=\"https://colab.research.google.com/github/deivisongithub/Curso-fundamentos-analise-dados/blob/main/json.ipynb\" target=\"_parent\"><img src=\"https://colab.research.google.com/assets/colab-badge.svg\" alt=\"Open In Colab\"/></a>"
      ]
    },
    {
      "cell_type": "code",
      "execution_count": null,
      "metadata": {
        "colab": {
          "base_uri": "https://localhost:8080/"
        },
        "id": "9vP06f_fwRoa",
        "outputId": "46a05c65-94c5-400b-ac17-784fa9a50864"
      },
      "outputs": [
        {
          "output_type": "stream",
          "name": "stdout",
          "text": [
            "Título:  The Good Man trailer\n",
            "URL:  https://vimeo.com/57733101\n",
            "Duração:  143\n",
            "Número de Visualizações:  6319\n"
          ]
        }
      ],
      "source": [
        "# Imprimindo um arquivo Json copiado da internet\n",
        "import json\n",
        "from urllib.request import urlopen\n",
        "\n",
        "response = urlopen(\"http://vimeo.com/api/v2/video/57733101.json\").read().decode('utf8')\n",
        "data = json.loads(response)[0]\n",
        "print ('Título: ', data['title'])\n",
        "print ('URL: ', data['url'])\n",
        "print ('Duração: ', data['duration'])\n",
        "print ('Número de Visualizações: ', data['stats_number_of_plays'])"
      ]
    },
    {
      "cell_type": "code",
      "source": [
        "response"
      ],
      "metadata": {
        "colab": {
          "base_uri": "https://localhost:8080/",
          "height": 210
        },
        "id": "RsryslP7wjm5",
        "outputId": "0270f6d4-329d-45e2-a62d-e09b45279ed8"
      },
      "execution_count": null,
      "outputs": [
        {
          "output_type": "execute_result",
          "data": {
            "application/vnd.google.colaboratory.intrinsic+json": {
              "type": "string"
            },
            "text/plain": [
              "'[{\"id\":57733101,\"title\":\"The Good Man trailer\",\"description\":\"Trailer for the Manifesto Films production, The Good Man, now available in UK\\\\/Ireland\\\\/US\\\\/Canada\\\\/Australia\\\\/New Zealand on iTunes (https:\\\\/\\\\/itunes.apple.com\\\\/us\\\\/movie\\\\/the-good-man\\\\/id873130906) and DVD (http:\\\\/\\\\/www.amazon.co.uk\\\\/The-Good-Man-Aiden-Gillen\\\\/dp\\\\/B00IIK6CGU\\\\/). Co-production with Jet Black Entertainment (South Africa). Starring Aidan Gillen, Thabang Sidloyi, Kelly Campbell, Lunathi Mampofu. Written & directed by Phil Harrison. More info at www.thegoodmanfilm.com<br \\\\/>\\\\r\\\\n<br \\\\/>\\\\r\\\\nCheck out the Variety Magazine review here: http:\\\\/\\\\/www.variety.com\\\\/review\\\\/VE1117947909\\\\/\",\"url\":\"https:\\\\/\\\\/vimeo.com\\\\/57733101\",\"upload_date\":\"2013-01-19 04:01:15\",\"thumbnail_small\":\"http:\\\\/\\\\/i.vimeocdn.com\\\\/video\\\\/436057121-e828a1f5478ec0136e957753d107f2a1268c64def9b82faac37c8e30c031cff2-d_100x75\",\"thumbnail_medium\":\"http:\\\\/\\\\/i.vimeocdn.com\\\\/video\\\\/436057121-e828a1f5478ec0136e957753d107f2a1268c64def9b82faac37c8e30c031cff2-d_200x150\",\"thumbnail_large\":\"http:\\\\/\\\\/i.vimeocdn.com\\\\/video\\\\/436057121-e828a1f5478ec0136e957753d107f2a1268c64def9b82faac37c8e30c031cff2-d_640\",\"user_id\":1334563,\"user_name\":\"Manifesto Films\",\"user_url\":\"https:\\\\/\\\\/vimeo.com\\\\/manifestofilms\",\"user_portrait_small\":\"http:\\\\/\\\\/i.vimeocdn.com\\\\/portrait\\\\/4778306_30x30\",\"user_portrait_medium\":\"http:\\\\/\\\\/i.vimeocdn.com\\\\/portrait\\\\/4778306_75x75\",\"user_portrait_large\":\"http:\\\\/\\\\/i.vimeocdn.com\\\\/portrait\\\\/4778306_100x100\",\"user_portrait_huge\":\"http:\\\\/\\\\/i.vimeocdn.com\\\\/portrait\\\\/4778306_300x300\",\"stats_number_of_likes\":17,\"stats_number_of_plays\":6319,\"stats_number_of_comments\":0,\"duration\":143,\"width\":640,\"height\":360,\"tags\":\"belfast, cape town, africa, ireland, film\",\"embed_privacy\":\"anywhere\"}]'"
            ]
          },
          "metadata": {},
          "execution_count": 9
        }
      ]
    },
    {
      "cell_type": "code",
      "source": [
        "data"
      ],
      "metadata": {
        "colab": {
          "base_uri": "https://localhost:8080/"
        },
        "id": "9uCaKzKsxz6N",
        "outputId": "387d287b-b4e2-4ca6-b49b-523b9d0d9968"
      },
      "execution_count": null,
      "outputs": [
        {
          "output_type": "execute_result",
          "data": {
            "text/plain": [
              "{'description': 'Trailer for the Manifesto Films production, The Good Man, now available in UK/Ireland/US/Canada/Australia/New Zealand on iTunes (https://itunes.apple.com/us/movie/the-good-man/id873130906) and DVD (http://www.amazon.co.uk/The-Good-Man-Aiden-Gillen/dp/B00IIK6CGU/). Co-production with Jet Black Entertainment (South Africa). Starring Aidan Gillen, Thabang Sidloyi, Kelly Campbell, Lunathi Mampofu. Written & directed by Phil Harrison. More info at www.thegoodmanfilm.com<br />\\r\\n<br />\\r\\nCheck out the Variety Magazine review here: http://www.variety.com/review/VE1117947909/',\n",
              " 'duration': 143,\n",
              " 'embed_privacy': 'anywhere',\n",
              " 'height': 360,\n",
              " 'id': 57733101,\n",
              " 'stats_number_of_comments': 0,\n",
              " 'stats_number_of_likes': 17,\n",
              " 'stats_number_of_plays': 6319,\n",
              " 'tags': 'belfast, cape town, africa, ireland, film',\n",
              " 'thumbnail_large': 'http://i.vimeocdn.com/video/436057121-e828a1f5478ec0136e957753d107f2a1268c64def9b82faac37c8e30c031cff2-d_640',\n",
              " 'thumbnail_medium': 'http://i.vimeocdn.com/video/436057121-e828a1f5478ec0136e957753d107f2a1268c64def9b82faac37c8e30c031cff2-d_200x150',\n",
              " 'thumbnail_small': 'http://i.vimeocdn.com/video/436057121-e828a1f5478ec0136e957753d107f2a1268c64def9b82faac37c8e30c031cff2-d_100x75',\n",
              " 'title': 'The Good Man trailer',\n",
              " 'upload_date': '2013-01-19 04:01:15',\n",
              " 'url': 'https://vimeo.com/57733101',\n",
              " 'user_id': 1334563,\n",
              " 'user_name': 'Manifesto Films',\n",
              " 'user_portrait_huge': 'http://i.vimeocdn.com/portrait/4778306_300x300',\n",
              " 'user_portrait_large': 'http://i.vimeocdn.com/portrait/4778306_100x100',\n",
              " 'user_portrait_medium': 'http://i.vimeocdn.com/portrait/4778306_75x75',\n",
              " 'user_portrait_small': 'http://i.vimeocdn.com/portrait/4778306_30x30',\n",
              " 'user_url': 'https://vimeo.com/manifestofilms',\n",
              " 'width': 640}"
            ]
          },
          "metadata": {},
          "execution_count": 10
        }
      ]
    }
  ]
}