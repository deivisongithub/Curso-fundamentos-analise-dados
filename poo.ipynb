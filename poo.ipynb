{
  "nbformat": 4,
  "nbformat_minor": 0,
  "metadata": {
    "colab": {
      "name": "poo.ipynb",
      "provenance": [],
      "collapsed_sections": [],
      "authorship_tag": "ABX9TyNDljOW70rovavrkhsHcWry",
      "include_colab_link": true
    },
    "kernelspec": {
      "name": "python3",
      "display_name": "Python 3"
    },
    "language_info": {
      "name": "python"
    }
  },
  "cells": [
    {
      "cell_type": "markdown",
      "metadata": {
        "id": "view-in-github",
        "colab_type": "text"
      },
      "source": [
        "<a href=\"https://colab.research.google.com/github/deivisongithub/Aprendendo-POO/blob/main/poo.ipynb\" target=\"_parent\"><img src=\"https://colab.research.google.com/assets/colab-badge.svg\" alt=\"Open In Colab\"/></a>"
      ]
    },
    {
      "cell_type": "code",
      "execution_count": null,
      "metadata": {
        "id": "mTKCKbOKPGak"
      },
      "outputs": [],
      "source": [
        "class pessoa():\n",
        "  \n",
        "  def __init__(self,nome,idade,altura,peso):\n",
        "    self.nome = nome\n",
        "    self.idade = idade\n",
        "    self.altura = altura\n",
        "    self.peso = peso\n",
        "    print('\\npessoa registrada\\n')\n",
        "\n",
        "  def imprime_dados(self):\n",
        "    print(p1.nome)\n",
        "    print(p1.idade)\n",
        "    print(p1.altura)\n",
        "    print(p1.peso)\n",
        "\n"
      ]
    },
    {
      "cell_type": "code",
      "source": [
        "p1 = pessoa('deivison',19,1.69,58)"
      ],
      "metadata": {
        "colab": {
          "base_uri": "https://localhost:8080/"
        },
        "id": "t5Fvrdog5fk0",
        "outputId": "c1415a0c-5d3a-45af-ce55-c3bdc0636a75"
      },
      "execution_count": null,
      "outputs": [
        {
          "output_type": "stream",
          "name": "stdout",
          "text": [
            "\n",
            "pessoa registrada\n",
            "\n"
          ]
        }
      ]
    },
    {
      "cell_type": "code",
      "source": [
        "print(p1.nome,p1.idade,p1.altura,p1.peso)"
      ],
      "metadata": {
        "colab": {
          "base_uri": "https://localhost:8080/"
        },
        "id": "U3r4gFPx5sxY",
        "outputId": "e43994e0-0493-48ae-d30a-f636c2d67eee"
      },
      "execution_count": null,
      "outputs": [
        {
          "output_type": "stream",
          "name": "stdout",
          "text": [
            "deivison 19 1.69 58\n"
          ]
        }
      ]
    },
    {
      "cell_type": "code",
      "source": [
        "p1.imprime_dados()"
      ],
      "metadata": {
        "colab": {
          "base_uri": "https://localhost:8080/"
        },
        "id": "ccsNZnvu87OE",
        "outputId": "9534252a-4725-4130-f7ed-c563b88396ee"
      },
      "execution_count": null,
      "outputs": [
        {
          "output_type": "stream",
          "name": "stdout",
          "text": [
            "deivison\n",
            "19\n",
            "1.69\n",
            "58\n"
          ]
        }
      ]
    },
    {
      "cell_type": "code",
      "source": [
        "hasattr(p1,\"nome\")"
      ],
      "metadata": {
        "colab": {
          "base_uri": "https://localhost:8080/"
        },
        "id": "9tFUp9W19oRj",
        "outputId": "5f2f1e76-f716-46c0-924f-63dcaf504ae1"
      },
      "execution_count": null,
      "outputs": [
        {
          "output_type": "execute_result",
          "data": {
            "text/plain": [
              "True"
            ]
          },
          "metadata": {},
          "execution_count": 6
        }
      ]
    },
    {
      "cell_type": "code",
      "source": [
        "setattr(p1,\"nome\",\"deivin\")"
      ],
      "metadata": {
        "id": "cDfg8-vI-suA"
      },
      "execution_count": null,
      "outputs": []
    },
    {
      "cell_type": "code",
      "source": [
        "getattr(p1,\"nome\")"
      ],
      "metadata": {
        "colab": {
          "base_uri": "https://localhost:8080/",
          "height": 35
        },
        "id": "VJNt8RUM-2CO",
        "outputId": "d0d96f1d-7d63-4b7d-b732-f366e8115cf9"
      },
      "execution_count": null,
      "outputs": [
        {
          "output_type": "execute_result",
          "data": {
            "application/vnd.google.colaboratory.intrinsic+json": {
              "type": "string"
            },
            "text/plain": [
              "'deivin'"
            ]
          },
          "metadata": {},
          "execution_count": 8
        }
      ]
    },
    {
      "cell_type": "code",
      "source": [
        "delattr(p1,\"nome\")"
      ],
      "metadata": {
        "id": "Rcp0rPbB_ERj"
      },
      "execution_count": null,
      "outputs": []
    },
    {
      "cell_type": "code",
      "source": [
        "hasattr(p1,\"nome\")"
      ],
      "metadata": {
        "colab": {
          "base_uri": "https://localhost:8080/"
        },
        "id": "vozbLSvJ_OIG",
        "outputId": "061a4ef0-2a08-4ac2-fcd1-f82581ccb90f"
      },
      "execution_count": null,
      "outputs": [
        {
          "output_type": "execute_result",
          "data": {
            "text/plain": [
              "False"
            ]
          },
          "metadata": {},
          "execution_count": 10
        }
      ]
    },
    {
      "cell_type": "code",
      "source": [
        "setattr(p1,\"nome\",\"deivin\")"
      ],
      "metadata": {
        "id": "oEglmqvS_RM7"
      },
      "execution_count": null,
      "outputs": []
    },
    {
      "cell_type": "code",
      "source": [
        "hasattr(p1,\"nome\")"
      ],
      "metadata": {
        "colab": {
          "base_uri": "https://localhost:8080/"
        },
        "id": "T5uZmIeS_cn6",
        "outputId": "70bed11c-a854-4dfd-95dd-402c6b014ed8"
      },
      "execution_count": null,
      "outputs": [
        {
          "output_type": "execute_result",
          "data": {
            "text/plain": [
              "True"
            ]
          },
          "metadata": {},
          "execution_count": 12
        }
      ]
    },
    {
      "cell_type": "code",
      "source": [
        "getattr(p1,\"nome\")"
      ],
      "metadata": {
        "colab": {
          "base_uri": "https://localhost:8080/",
          "height": 35
        },
        "id": "Ny_u5Z2h_eaY",
        "outputId": "326ee496-5d93-42b1-ba68-3588880628a2"
      },
      "execution_count": null,
      "outputs": [
        {
          "output_type": "execute_result",
          "data": {
            "application/vnd.google.colaboratory.intrinsic+json": {
              "type": "string"
            },
            "text/plain": [
              "'deivin'"
            ]
          },
          "metadata": {},
          "execution_count": 13
        }
      ]
    },
    {
      "cell_type": "code",
      "source": [
        "class crianca(pessoa):\n",
        "  def __init__(self, nome, idade, altura, peso, responsavel):\n",
        "    pessoa.__init__(self,nome, idade, altura, peso)\n",
        "    self.responsavel = responsavel\n",
        "  \n",
        "  def get_responsavel(self):\n",
        "    print('O responsavel é ',self.responsavel)"
      ],
      "metadata": {
        "id": "lSCMFynk_iTo"
      },
      "execution_count": null,
      "outputs": []
    },
    {
      "cell_type": "code",
      "source": [
        "c1 = crianca('deivison',19,1.69,58,'marinalva')"
      ],
      "metadata": {
        "colab": {
          "base_uri": "https://localhost:8080/"
        },
        "id": "qV4c9phQexl4",
        "outputId": "fac18a9e-a83f-4ec2-ade7-21ccc46aab97"
      },
      "execution_count": null,
      "outputs": [
        {
          "output_type": "stream",
          "name": "stdout",
          "text": [
            "\n",
            "pessoa registrada\n",
            "\n"
          ]
        }
      ]
    },
    {
      "cell_type": "code",
      "source": [
        "c1.get_responsavel()"
      ],
      "metadata": {
        "colab": {
          "base_uri": "https://localhost:8080/"
        },
        "id": "xHJ-7yIwv5HI",
        "outputId": "cc0b3d88-b330-4877-fdf7-3042281a500c"
      },
      "execution_count": null,
      "outputs": [
        {
          "output_type": "stream",
          "name": "stdout",
          "text": [
            "O responsavel é  marinalva\n"
          ]
        }
      ]
    },
    {
      "cell_type": "code",
      "source": [
        "class Veiculo:\n",
        "    def __init__(self, tipo, chassi, marca, modelo, ano):\n",
        "        self.tipo = tipo\n",
        "        self.chassi = chassi\n",
        "        self.marca = marca\n",
        "        self.modelo = modelo\n",
        "        self.ano = ano"
      ],
      "metadata": {
        "id": "Fp6CO_aye_Ct"
      },
      "execution_count": null,
      "outputs": []
    },
    {
      "cell_type": "code",
      "source": [
        "class Motocicleta(Veiculo): \n",
        "    def __init__(self, tipo, chassi, marca, modelo, ano, cilindrada):\n",
        "        super().__init__(tipo, chassi, marca, modelo, ano) \n",
        "        self.cilindrada = cilindrada"
      ],
      "metadata": {
        "id": "k-OjLG_ftwiF"
      },
      "execution_count": null,
      "outputs": []
    },
    {
      "cell_type": "code",
      "source": [
        "m1 = Motocicleta(1,2,'honda','titan',2010,150)"
      ],
      "metadata": {
        "id": "BmFnvyXzt5dp"
      },
      "execution_count": null,
      "outputs": []
    },
    {
      "cell_type": "code",
      "source": [
        "m1.cilindrada"
      ],
      "metadata": {
        "colab": {
          "base_uri": "https://localhost:8080/"
        },
        "id": "tfYfsfmYt9xD",
        "outputId": "9cd9510e-fcfa-4980-f82c-cf650b37ed94"
      },
      "execution_count": null,
      "outputs": [
        {
          "output_type": "execute_result",
          "data": {
            "text/plain": [
              "150"
            ]
          },
          "metadata": {},
          "execution_count": 27
        }
      ]
    },
    {
      "cell_type": "code",
      "source": [
        ""
      ],
      "metadata": {
        "id": "FtFNfcLqusaP"
      },
      "execution_count": null,
      "outputs": []
    }
  ]
}