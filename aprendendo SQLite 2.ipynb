{
 "cells": [
  {
   "cell_type": "code",
   "execution_count": 1,
   "id": "99246ec8",
   "metadata": {},
   "outputs": [],
   "source": [
    "import os\n",
    "\n",
    "os.remove(\"dsa.db\") if os.path.exists(\"dsa.db\") else None"
   ]
  },
  {
   "cell_type": "code",
   "execution_count": 9,
   "id": "a0586b88",
   "metadata": {},
   "outputs": [],
   "source": [
    "import sqlite3\n",
    "import datetime\n",
    "import time\n",
    "import random\n",
    "\n",
    "\n",
    "conn = sqlite3.connect('dsa.db')\n",
    "\n",
    "c = conn.cursor()\n",
    "\n",
    "def create_table():\n",
    "    c.execute('CREATE TABLE IF NOT EXISTS produtos(id INTEGER PRIMARY KEY AUTOINCREMENT NOT NULL, date TEXT, ' \\\n",
    "              'prod_name TEXT, valor REAL)')\n",
    "    \n",
    "def data_insert():\n",
    "    c.execute(\"INSERT INTO produtos VALUES(10,'2021-01-01','teclado',90)\")\n",
    "    conn.commit()\n",
    "    \n",
    "def data_insert_var():\n",
    "    new_date = datetime.datetime.now()\n",
    "    new_prod_name = 'monitor'\n",
    "    new_valor = random.randrange(50,100)\n",
    "    c.execute(\"INSERT INTO produtos (date,prod_name, valor) VALUES (?,?,?)\", (new_date, new_prod_name, new_valor))\n",
    "    conn.commit()\n",
    "    \n",
    "# Leitura de dados\n",
    "def leitura_todos_dados():\n",
    "    c.execute(\"SELECT * FROM PRODUTOS\")\n",
    "    for linha in c.fetchall():\n",
    "        print(linha)\n",
    "        \n",
    "# Leitura de registros específicos\n",
    "def leitura_registros():\n",
    "    c.execute(\"SELECT * FROM PRODUTOS WHERE valor > 60.0\")\n",
    "    for linha in c.fetchall():\n",
    "        print(linha)      \n",
    "        \n",
    "# Leitura de colunas específicos\n",
    "def leitura_colunas():\n",
    "    c.execute(\"SELECT * FROM PRODUTOS\")\n",
    "    for linha in c.fetchall():\n",
    "        print(linha[3])\n",
    "        \n",
    "# Update\n",
    "def atualiza_dados():\n",
    "    c.execute(\"UPDATE produtos SET valor = 70.00 WHERE valor = 71.0\")\n",
    "    conn.commit()\n",
    "    \n",
    "# Delete\n",
    "def remove_dados():\n",
    "    c.execute(\"DELETE FROM produtos WHERE valor = 51.0\")\n",
    "    conn.commit()"
   ]
  },
  {
   "cell_type": "code",
   "execution_count": 3,
   "id": "2ed3abba",
   "metadata": {},
   "outputs": [],
   "source": [
    "create_table()"
   ]
  },
  {
   "cell_type": "code",
   "execution_count": 4,
   "id": "1f67af15",
   "metadata": {},
   "outputs": [],
   "source": [
    "data_insert()"
   ]
  },
  {
   "cell_type": "code",
   "execution_count": 5,
   "id": "9b142f90",
   "metadata": {},
   "outputs": [],
   "source": [
    "for i in range(10):\n",
    "    data_insert_var()\n",
    "    time.sleep(1)"
   ]
  },
  {
   "cell_type": "code",
   "execution_count": 7,
   "id": "1d335cc0",
   "metadata": {},
   "outputs": [],
   "source": [
    "atualiza_dados()"
   ]
  },
  {
   "cell_type": "code",
   "execution_count": 10,
   "id": "029829fd",
   "metadata": {},
   "outputs": [],
   "source": [
    "remove_dados()"
   ]
  },
  {
   "cell_type": "code",
   "execution_count": 11,
   "id": "e704cbf4",
   "metadata": {},
   "outputs": [
    {
     "name": "stdout",
     "output_type": "stream",
     "text": [
      "(10, '2021-01-01', 'teclado', 90.0)\n",
      "(12, '2022-02-03 14:22:57.853303', 'monitor', 64.0)\n",
      "(13, '2022-02-03 14:22:58.890370', 'monitor', 85.0)\n",
      "(14, '2022-02-03 14:22:59.908656', 'monitor', 98.0)\n",
      "(15, '2022-02-03 14:23:00.927413', 'monitor', 50.0)\n",
      "(16, '2022-02-03 14:23:01.949880', 'monitor', 88.0)\n",
      "(17, '2022-02-03 14:23:02.962053', 'monitor', 86.0)\n",
      "(18, '2022-02-03 14:23:03.974068', 'monitor', 70.0)\n",
      "(19, '2022-02-03 14:23:04.992062', 'monitor', 96.0)\n",
      "(20, '2022-02-03 14:23:06.014228', 'monitor', 63.0)\n"
     ]
    }
   ],
   "source": [
    "leitura_todos_dados()"
   ]
  },
  {
   "cell_type": "code",
   "execution_count": 52,
   "id": "47134d1f",
   "metadata": {},
   "outputs": [
    {
     "name": "stdout",
     "output_type": "stream",
     "text": [
      "(10, '2021-01-01', 'teclado', 90.0)\n",
      "(11, '2022-02-01 20:43:43.837793', 'monitor', 71.0)\n",
      "(12, '2022-02-01 20:43:44.852237', 'monitor', 76.0)\n",
      "(13, '2022-02-01 20:43:45.870893', 'monitor', 76.0)\n",
      "(14, '2022-02-01 20:43:46.891697', 'monitor', 97.0)\n",
      "(16, '2022-02-01 20:43:48.928082', 'monitor', 79.0)\n",
      "(17, '2022-02-01 20:43:49.938597', 'monitor', 67.0)\n",
      "(19, '2022-02-01 20:43:51.957444', 'monitor', 75.0)\n"
     ]
    }
   ],
   "source": [
    "leitura_registros()"
   ]
  },
  {
   "cell_type": "code",
   "execution_count": 53,
   "id": "d1be3a7b",
   "metadata": {},
   "outputs": [
    {
     "name": "stdout",
     "output_type": "stream",
     "text": [
      "90.0\n",
      "71.0\n",
      "76.0\n",
      "76.0\n",
      "97.0\n",
      "57.0\n",
      "79.0\n",
      "67.0\n",
      "57.0\n",
      "75.0\n",
      "52.0\n"
     ]
    }
   ],
   "source": [
    "leitura_colunas()"
   ]
  },
  {
   "cell_type": "code",
   "execution_count": 49,
   "id": "6686a4ba",
   "metadata": {},
   "outputs": [],
   "source": [
    "c.close()\n",
    "conn.close()"
   ]
  }
 ],
 "metadata": {
  "kernelspec": {
   "display_name": "Python 3 (ipykernel)",
   "language": "python",
   "name": "python3"
  },
  "language_info": {
   "codemirror_mode": {
    "name": "ipython",
    "version": 3
   },
   "file_extension": ".py",
   "mimetype": "text/x-python",
   "name": "python",
   "nbconvert_exporter": "python",
   "pygments_lexer": "ipython3",
   "version": "3.9.7"
  }
 },
 "nbformat": 4,
 "nbformat_minor": 5
}
