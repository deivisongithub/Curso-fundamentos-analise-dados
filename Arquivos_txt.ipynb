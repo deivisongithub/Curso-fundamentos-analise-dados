{
  "nbformat": 4,
  "nbformat_minor": 0,
  "metadata": {
    "colab": {
      "name": "Arquivos txt.ipynb",
      "provenance": [],
      "authorship_tag": "ABX9TyOE2d1xtG4Gs4CnGLZTHTWH",
      "include_colab_link": true
    },
    "kernelspec": {
      "name": "python3",
      "display_name": "Python 3"
    },
    "language_info": {
      "name": "python"
    }
  },
  "cells": [
    {
      "cell_type": "markdown",
      "metadata": {
        "id": "view-in-github",
        "colab_type": "text"
      },
      "source": [
        "<a href=\"https://colab.research.google.com/github/deivisongithub/Curso-fundamentos-analise-dados/blob/main/Arquivos_txt.ipynb\" target=\"_parent\"><img src=\"https://colab.research.google.com/assets/colab-badge.svg\" alt=\"Open In Colab\"/></a>"
      ]
    },
    {
      "cell_type": "markdown",
      "source": [
        "Aprendendo a manipular arquivos TXT"
      ],
      "metadata": {
        "id": "rwXcWDm1Oexm"
      }
    },
    {
      "cell_type": "markdown",
      "source": [
        "Lendo arquivos"
      ],
      "metadata": {
        "id": "M6zpX7oVSmqF"
      }
    },
    {
      "cell_type": "code",
      "source": [
        "arquivo = open(\"texto.txt\",\"a\")"
      ],
      "metadata": {
        "id": "ChgH-iCER6eG"
      },
      "execution_count": null,
      "outputs": []
    },
    {
      "cell_type": "code",
      "execution_count": null,
      "metadata": {
        "id": "jGjc9IAeB4BN"
      },
      "outputs": [],
      "source": [
        "#Abrindo um arquivo txt\n",
        "\n",
        "arquivo = open(\"texto.txt\",\"r\")"
      ]
    },
    {
      "cell_type": "code",
      "source": [
        "#lendo o arquivo\n",
        "print(arquivo.read())"
      ],
      "metadata": {
        "colab": {
          "base_uri": "https://localhost:8080/"
        },
        "id": "PdMTqe-PQ2TX",
        "outputId": "abe27aa9-8802-45b1-a0de-bb3a6b35ff14"
      },
      "execution_count": null,
      "outputs": [
        {
          "output_type": "stream",
          "name": "stdout",
          "text": [
            "\n"
          ]
        }
      ]
    },
    {
      "cell_type": "code",
      "source": [
        "#contando número de caracteres\n",
        "\n",
        "print(arquivo.tell())"
      ],
      "metadata": {
        "colab": {
          "base_uri": "https://localhost:8080/"
        },
        "id": "sDKN_XIcQ2Qu",
        "outputId": "4039087e-f807-4f59-cb75-6efcd5b1d50b"
      },
      "execution_count": null,
      "outputs": [
        {
          "output_type": "stream",
          "name": "stdout",
          "text": [
            "0\n"
          ]
        }
      ]
    },
    {
      "cell_type": "code",
      "source": [
        "#retornar ao inicio do arquivo\n",
        "\n",
        "print(arquivo.seek(0,0))"
      ],
      "metadata": {
        "colab": {
          "base_uri": "https://localhost:8080/"
        },
        "id": "NNkVxmHfQ2Ne",
        "outputId": "65ca9708-71a5-4553-d315-d547f159d0d6"
      },
      "execution_count": null,
      "outputs": [
        {
          "output_type": "stream",
          "name": "stdout",
          "text": [
            "0\n"
          ]
        }
      ]
    },
    {
      "cell_type": "code",
      "source": [
        "#ler os 10 primeiros caracteres\n",
        "\n",
        "print(arquivo.read(10))"
      ],
      "metadata": {
        "colab": {
          "base_uri": "https://localhost:8080/"
        },
        "id": "EnalnC_3Q2Gf",
        "outputId": "77503798-2dce-4b84-da4f-c7fbcc351b90"
      },
      "execution_count": null,
      "outputs": [
        {
          "output_type": "stream",
          "name": "stdout",
          "text": [
            "\n"
          ]
        }
      ]
    },
    {
      "cell_type": "markdown",
      "source": [
        "Gravando arquivo"
      ],
      "metadata": {
        "id": "igCvXIwKShDh"
      }
    },
    {
      "cell_type": "code",
      "source": [
        "#Abrindo um arquivo txt\n",
        "\n",
        "arquivo = open(\"texto.txt\",\"w\")"
      ],
      "metadata": {
        "id": "myBYckkxQ2Bt"
      },
      "execution_count": null,
      "outputs": []
    },
    {
      "cell_type": "code",
      "source": [
        "#escrevendo\n",
        "\n",
        "arquivo.write(\"Aprendendo a manipular arquivos em python\")"
      ],
      "metadata": {
        "colab": {
          "base_uri": "https://localhost:8080/"
        },
        "id": "0XLFGOSeQ1zQ",
        "outputId": "86aa209b-99bc-4cc2-9f23-dd86b443b1d1"
      },
      "execution_count": null,
      "outputs": [
        {
          "output_type": "execute_result",
          "data": {
            "text/plain": [
              "41"
            ]
          },
          "metadata": {},
          "execution_count": 8
        }
      ]
    },
    {
      "cell_type": "code",
      "source": [
        "#fechando o arquivo\n",
        "\n",
        "arquivo.close()"
      ],
      "metadata": {
        "id": "SONRMdxZTW7U"
      },
      "execution_count": null,
      "outputs": []
    },
    {
      "cell_type": "code",
      "source": [
        "#Abrindo para acrescentar conteúdo\n",
        "arquivo = open(\"texto.txt\",\"a\")"
      ],
      "metadata": {
        "id": "IeA5O8OkTuW4"
      },
      "execution_count": null,
      "outputs": []
    },
    {
      "cell_type": "code",
      "source": [
        "#acrrescentando\n",
        "\n",
        "arquivo.write(\" Acrescentando conteúdo\")\n",
        "arquivo.close()"
      ],
      "metadata": {
        "id": "dCMJHzL9ULql"
      },
      "execution_count": null,
      "outputs": []
    }
  ]
}